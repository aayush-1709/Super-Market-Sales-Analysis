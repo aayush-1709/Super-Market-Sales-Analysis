{
 "cells": [
  {
   "cell_type": "code",
   "execution_count": 46,
   "metadata": {},
   "outputs": [],
   "source": [
    "import pandas as pd"
   ]
  },
  {
   "cell_type": "code",
   "execution_count": 47,
   "metadata": {},
   "outputs": [],
   "source": [
    "df = pd.read_csv(\"SuperMarket.csv\")"
   ]
  },
  {
   "cell_type": "code",
   "execution_count": 48,
   "metadata": {},
   "outputs": [
    {
     "name": "stdout",
     "output_type": "stream",
     "text": [
      "<class 'pandas.core.frame.DataFrame'>\n",
      "RangeIndex: 10194 entries, 0 to 10193\n",
      "Data columns (total 21 columns):\n",
      " #   Column          Non-Null Count  Dtype  \n",
      "---  ------          --------------  -----  \n",
      " 0   Row ID          10194 non-null  int64  \n",
      " 1   Order ID        10194 non-null  object \n",
      " 2   Order Date      10194 non-null  object \n",
      " 3   Ship Date       10194 non-null  object \n",
      " 4   Ship Mode       10194 non-null  object \n",
      " 5   Customer ID     10194 non-null  object \n",
      " 6   Customer Name   10194 non-null  object \n",
      " 7   Segment         10194 non-null  object \n",
      " 8   Country/Region  10194 non-null  object \n",
      " 9   City            10194 non-null  object \n",
      " 10  State/Province  10194 non-null  object \n",
      " 11  Postal Code     10194 non-null  object \n",
      " 12  Region          10194 non-null  object \n",
      " 13  Product ID      10194 non-null  object \n",
      " 14  Category        10194 non-null  object \n",
      " 15  Sub-Category    10194 non-null  object \n",
      " 16  Product Name    10194 non-null  object \n",
      " 17  Sales           10194 non-null  float64\n",
      " 18  Quantity        10194 non-null  int64  \n",
      " 19  Discount        10194 non-null  float64\n",
      " 20  Profit          10194 non-null  float64\n",
      "dtypes: float64(3), int64(2), object(16)\n",
      "memory usage: 1.6+ MB\n"
     ]
    }
   ],
   "source": [
    "df.info()"
   ]
  },
  {
   "cell_type": "code",
   "execution_count": 49,
   "metadata": {},
   "outputs": [
    {
     "name": "stdout",
     "output_type": "stream",
     "text": [
      "Row ID            0\n",
      "Order ID          0\n",
      "Order Date        0\n",
      "Ship Date         0\n",
      "Ship Mode         0\n",
      "Customer ID       0\n",
      "Customer Name     0\n",
      "Segment           0\n",
      "Country/Region    0\n",
      "City              0\n",
      "State/Province    0\n",
      "Postal Code       0\n",
      "Region            0\n",
      "Product ID        0\n",
      "Category          0\n",
      "Sub-Category      0\n",
      "Product Name      0\n",
      "Sales             0\n",
      "Quantity          0\n",
      "Discount          0\n",
      "Profit            0\n",
      "dtype: int64\n"
     ]
    }
   ],
   "source": [
    "print(df.isnull().sum())"
   ]
  },
  {
   "cell_type": "code",
   "execution_count": 50,
   "metadata": {},
   "outputs": [
    {
     "name": "stdout",
     "output_type": "stream",
     "text": [
      "Segment\n",
      "Consumer       5281\n",
      "Corporate      3090\n",
      "Home Office    1823\n",
      "Name: count, dtype: int64\n"
     ]
    }
   ],
   "source": [
    "segment_counts = df['Segment'].value_counts()\n",
    "print(segment_counts)"
   ]
  },
  {
   "cell_type": "code",
   "execution_count": 51,
   "metadata": {},
   "outputs": [
    {
     "name": "stdout",
     "output_type": "stream",
     "text": [
      "Country/Region\n",
      "United States    9994\n",
      "Canada            200\n",
      "Name: count, dtype: int64\n"
     ]
    }
   ],
   "source": [
    "country_counts = df['Country/Region'].value_counts()\n",
    "print(country_counts)"
   ]
  },
  {
   "cell_type": "code",
   "execution_count": 52,
   "metadata": {},
   "outputs": [
    {
     "name": "stdout",
     "output_type": "stream",
     "text": [
      "City\n",
      "New York City    915\n",
      "Los Angeles      747\n",
      "Philadelphia     537\n",
      "San Francisco    510\n",
      "Seattle          428\n",
      "                ... \n",
      "Manhattan          1\n",
      "Iowa City          1\n",
      "Cedar Rapids       1\n",
      "Baytown            1\n",
      "Danbury            1\n",
      "Name: count, Length: 542, dtype: int64\n"
     ]
    }
   ],
   "source": [
    "city_counts = df['City'].value_counts() \n",
    "print(city_counts)"
   ]
  },
  {
   "cell_type": "code",
   "execution_count": 53,
   "metadata": {},
   "outputs": [
    {
     "name": "stdout",
     "output_type": "stream",
     "text": [
      " Row ID       Order ID Order Date  Ship Date      Ship Mode Customer ID Customer Name     Segment Country/Region    City State/Province Postal Code Region      Product ID  Category Sub-Category            Product Name  Sales  Quantity  Discount  Profit\n",
      "  10094 US-2024-110625 23-12-2024 30-12-2024 Standard Class    JB-16045 Julia Barnett Home Office  United States Danbury    Connecticut       06810   East FUR-FU-10001473 Furniture  Furnishings DAX Wood Document Frame  27.46         2       0.0  9.8856\n"
     ]
    }
   ],
   "source": [
    "Danbury_order = df[df['City'] == 'Danbury'].to_string(index=False)\n",
    "print(Danbury_order)"
   ]
  },
  {
   "cell_type": "code",
   "execution_count": 54,
   "metadata": {},
   "outputs": [
    {
     "name": "stdout",
     "output_type": "stream",
     "text": [
      "Postal Code\n",
      "10035    263\n",
      "10024    230\n",
      "10009    229\n",
      "94122    203\n",
      "10011    193\n",
      "        ... \n",
      "68701      1\n",
      "93454      1\n",
      "60477      1\n",
      "52402      1\n",
      "98208      1\n",
      "Name: count, Length: 654, dtype: int64\n"
     ]
    }
   ],
   "source": [
    "postal_code_count = df['Postal Code'].value_counts()\n",
    "print(postal_code_count)"
   ]
  },
  {
   "cell_type": "code",
   "execution_count": 55,
   "metadata": {},
   "outputs": [
    {
     "name": "stdout",
     "output_type": "stream",
     "text": [
      "       Row ID        Order ID  Order Date   Ship Date       Ship Mode  \\\n",
      "139       140  US-2021-143707  01-03-2021  05-03-2021  Standard Class   \n",
      "148       149  US-2021-127964  03-03-2021  08-03-2021  Standard Class   \n",
      "149       150  US-2021-127964  03-03-2021  08-03-2021  Standard Class   \n",
      "152       153  US-2021-127964  03-03-2021  08-03-2021  Standard Class   \n",
      "317       318  US-2021-113887  05-04-2021  07-04-2021     First Class   \n",
      "...       ...             ...         ...         ...             ...   \n",
      "9955     9956  US-2024-100230  11-12-2024  15-12-2024  Standard Class   \n",
      "9960     9961  US-2024-100230  11-12-2024  15-12-2024  Standard Class   \n",
      "10123   10124  US-2024-161480  25-12-2024  29-12-2024  Standard Class   \n",
      "10125   10126  US-2024-146780  25-12-2024  30-12-2024  Standard Class   \n",
      "10180   10181  US-2024-102638  29-12-2024  31-12-2024     First Class   \n",
      "\n",
      "      Customer ID   Customer Name      Segment Country/Region           City  \\\n",
      "139      HR-14770  Hallie Redmond  Home Office  United States  New York City   \n",
      "148      AP-10720      Anne Pryor  Home Office  United States  New York City   \n",
      "149      AP-10720      Anne Pryor  Home Office  United States  New York City   \n",
      "152      AP-10720      Anne Pryor  Home Office  United States  New York City   \n",
      "317      TH-21550   Tracy Hopkins  Home Office  United States  New York City   \n",
      "...           ...             ...          ...            ...            ...   \n",
      "9955     AA-10375    Allen Armold     Consumer  United States  New York City   \n",
      "9960     AA-10375    Allen Armold     Consumer  United States  New York City   \n",
      "10123    RA-19285    Ralph Arnett     Consumer  United States  New York City   \n",
      "10125    CV-12805   Cynthia Voltz    Corporate  United States  New York City   \n",
      "10180    MC-17845    Michael Chen     Consumer  United States  New York City   \n",
      "\n",
      "       ... Postal Code Region       Product ID         Category Sub-Category  \\\n",
      "139    ...       10035   East  TEC-PH-10003655       Technology       Phones   \n",
      "148    ...       10035   East  OFF-BI-10003429  Office Supplies      Binders   \n",
      "149    ...       10035   East  OFF-BI-10004593  Office Supplies      Binders   \n",
      "152    ...       10035   East  TEC-PH-10004700       Technology       Phones   \n",
      "317    ...       10035   East  OFF-PA-10004071  Office Supplies        Paper   \n",
      "...    ...         ...    ...              ...              ...          ...   \n",
      "9955   ...       10035   East  OFF-PA-10002245  Office Supplies        Paper   \n",
      "9960   ...       10035   East  TEC-PH-10004522       Technology       Phones   \n",
      "10123  ...       10035   East  FUR-BO-10004015        Furniture    Bookcases   \n",
      "10125  ...       10035   East  FUR-FU-10001934        Furniture  Furnishings   \n",
      "10180  ...       10035   East  OFF-FA-10002988  Office Supplies    Fasteners   \n",
      "\n",
      "                                            Product Name    Sales  Quantity  \\\n",
      "139    Sannysis Cute Owl Design Soft Skin Case Cover ...    5.940         3   \n",
      "148    Cardinal HOLDit! Binder Insert Strips,Extra St...   25.320         5   \n",
      "149        Ibico Laser Imprintable Binding System Covers  125.760         3   \n",
      "152                        PowerGen Dual USB Car Charger    9.990         1   \n",
      "317    Eaton Premium Continuous-Feed Paper, 25% Cotto...   55.480         1   \n",
      "...                                                  ...      ...       ...   \n",
      "9955                                          Xerox 1895   17.940         3   \n",
      "9960   Dexim XPower Skin Super-Thin Power Case for iP...  116.980         2   \n",
      "10123   Bush Andora Bookcase, Maple/Graphite Gray Finish  191.984         2   \n",
      "10125                           Magnifier Swing Arm Lamp   41.960         2   \n",
      "10180                                       Ideal Clamps    6.030         3   \n",
      "\n",
      "       Discount   Profit  \n",
      "139         0.0   1.6038  \n",
      "148         0.2   9.1785  \n",
      "149         0.2  40.8720  \n",
      "152         0.0   4.5954  \n",
      "317         0.0  26.6304  \n",
      "...         ...      ...  \n",
      "9955        0.0   8.0730  \n",
      "9960        0.0  29.2450  \n",
      "10123       0.2   4.7996  \n",
      "10125       0.0  10.9096  \n",
      "10180       0.0   2.9547  \n",
      "\n",
      "[263 rows x 21 columns]\n"
     ]
    }
   ],
   "source": [
    "postal = df[df['Postal Code']== '10035']\n",
    "print(postal)"
   ]
  },
  {
   "cell_type": "code",
   "execution_count": 56,
   "metadata": {},
   "outputs": [
    {
     "name": "stdout",
     "output_type": "stream",
     "text": [
      "Category\n",
      "Office Supplies    6128\n",
      "Furniture          2201\n",
      "Technology         1865\n",
      "Name: count, dtype: int64\n"
     ]
    }
   ],
   "source": [
    "print(df['Category'].value_counts())"
   ]
  },
  {
   "cell_type": "code",
   "execution_count": 57,
   "metadata": {},
   "outputs": [],
   "source": [
    "df['Order Date'] = pd.to_datetime(df['Order Date'], format='%d-%m-%Y')  # Specify the format\n",
    "df['Day'] = df['Order Date'].dt.day\n",
    "df['Month'] = df['Order Date'].dt.month\n",
    "df['Year'] = df['Order Date'].dt.year\n",
    "\n",
    "# print(df['Day'].head())\n",
    "# print(df['Month'].head())\n",
    "# print(df['Year'].head())"
   ]
  },
  {
   "cell_type": "code",
   "execution_count": 58,
   "metadata": {},
   "outputs": [
    {
     "name": "stdout",
     "output_type": "stream",
     "text": [
      "       Row ID        Order ID Order Date   Ship Date       Ship Mode  \\\n",
      "5           6  US-2021-167199 2021-01-06  10-01-2021  Standard Class   \n",
      "8           9  US-2021-167199 2021-01-06  10-01-2021  Standard Class   \n",
      "12         13  US-2021-167199 2021-01-06  10-01-2021  Standard Class   \n",
      "30         31  US-2021-157147 2021-01-13  18-01-2021  Standard Class   \n",
      "31         32  US-2021-162775 2021-01-13  15-01-2021    Second Class   \n",
      "...       ...             ...        ...         ...             ...   \n",
      "10121   10122  US-2024-145219 2024-12-24  25-12-2024     First Class   \n",
      "10137   10138  US-2024-114055 2024-12-25  29-12-2024    Second Class   \n",
      "10149   10150  US-2024-121741 2024-12-26  26-12-2024        Same Day   \n",
      "10169   10170  US-2024-163979 2024-12-28  02-01-2025    Second Class   \n",
      "10172   10173  US-2024-158526 2024-12-29  01-01-2025    Second Class   \n",
      "\n",
      "      Customer ID     Customer Name      Segment Country/Region  \\\n",
      "5        ME-17320     Maria Etezadi  Home Office  United States   \n",
      "8        ME-17320     Maria Etezadi  Home Office  United States   \n",
      "12       ME-17320     Maria Etezadi  Home Office  United States   \n",
      "30       BD-11605      Brian Dahlen     Consumer  United States   \n",
      "31       CS-12250   Chris Selesnick    Corporate  United States   \n",
      "...           ...               ...          ...            ...   \n",
      "10121    RM-19675     Robert Marley  Home Office  United States   \n",
      "10137    MH-18115    Mick Hernandez  Home Office  United States   \n",
      "10149    YC-21895    Yoseph Carroll    Corporate  United States   \n",
      "10169    KH-16690  Kristen Hastings    Corporate  United States   \n",
      "10172    KH-16360  Katherine Hughes     Consumer  United States   \n",
      "\n",
      "                City  ...         Category Sub-Category  \\\n",
      "5          Henderson  ...        Furniture       Chairs   \n",
      "8          Henderson  ...  Office Supplies      Binders   \n",
      "12         Henderson  ...       Technology       Phones   \n",
      "30     San Francisco  ...  Office Supplies      Storage   \n",
      "31      Bossier City  ...       Technology  Accessories   \n",
      "...              ...  ...              ...          ...   \n",
      "10121    Los Angeles  ...       Technology      Copiers   \n",
      "10137     Huntsville  ...  Office Supplies        Paper   \n",
      "10149        Fremont  ...  Office Supplies      Storage   \n",
      "10169  San Francisco  ...  Office Supplies      Storage   \n",
      "10172     Louisville  ...        Furniture       Chairs   \n",
      "\n",
      "                                            Product Name     Sales Quantity  \\\n",
      "5                Global Deluxe High-Back Manager's Chair  2573.820        9   \n",
      "8                    Ibico Hi-Tech Manual Binding System   609.980        2   \n",
      "12     Wireless Extenders zBoost YX545 SOHO Signal Bo...   755.960        4   \n",
      "30                 Tennsco 6- and 18-Compartment Lockers  1325.850        5   \n",
      "31       Plantronics S12 Corded Telephone Headset System   646.740        6   \n",
      "...                                                  ...       ...      ...   \n",
      "10121               Hewlett Packard LaserJet 3310 Copier  2879.952        6   \n",
      "10137                                         Xerox 1915   629.100        6   \n",
      "10149                        Tennsco Single-Tier Lockers   750.680        2   \n",
      "10169                 Adjustable Depth Letter/Legal Cart   725.840        4   \n",
      "10172  DMI Arturo Collection Mission-style Design Woo...  1207.840        8   \n",
      "\n",
      "      Discount     Profit  Day  Month  Year  \n",
      "5          0.0   746.4078    6      1  2021  \n",
      "8          0.0   274.4910    6      1  2021  \n",
      "12         0.0   204.1092    6      1  2021  \n",
      "30         0.0   238.6530   13      1  2021  \n",
      "31         0.0   258.6960   13      1  2021  \n",
      "...        ...        ...  ...    ...   ...  \n",
      "10121      0.2  1007.9832   24     12  2024  \n",
      "10137      0.0   301.9680   25     12  2024  \n",
      "10149      0.0    37.5340   26     12  2024  \n",
      "10169      0.0   210.4936   28     12  2024  \n",
      "10172      0.0   314.0384   29     12  2024  \n",
      "\n",
      "[953 rows x 24 columns]\n"
     ]
    }
   ],
   "source": [
    "print(df[df['Sales']  > 600])"
   ]
  },
  {
   "cell_type": "code",
   "execution_count": 59,
   "metadata": {},
   "outputs": [
    {
     "name": "stdout",
     "output_type": "stream",
     "text": [
      "22638.48\n"
     ]
    }
   ],
   "source": [
    "print(df['Sales'].max())"
   ]
  },
  {
   "cell_type": "markdown",
   "metadata": {},
   "source": [
    "Descriptive Analysis"
   ]
  },
  {
   "cell_type": "code",
   "execution_count": 60,
   "metadata": {},
   "outputs": [
    {
     "name": "stderr",
     "output_type": "stream",
     "text": [
      "C:\\Users\\1\\AppData\\Local\\Temp\\ipykernel_16988\\1791249016.py:10: FutureWarning: 'M' is deprecated and will be removed in a future version, please use 'ME' instead.\n",
      "  trend_data = df.resample('M', on='Order Date').agg({'Sales': 'sum', 'Profit': 'sum'}).reset_index()\n"
     ]
    },
    {
     "data": {
      "text/plain": [
       "(    Region          sum        mean\n",
       " 0  Central  503170.6728  215.490652\n",
       " 1     East  691828.1680  231.690612\n",
       " 2    South  391721.9050  241.803645\n",
       " 3     West  739813.6085  227.425026,\n",
       "           Category          sum        mean\n",
       " 0        Furniture  754747.7613  342.911295\n",
       " 1  Office Supplies  731893.3140  119.434288\n",
       " 2       Technology  839893.2790  450.344922,\n",
       "        Segment           sum        mean\n",
       " 0     Consumer  1.170660e+06  221.673885\n",
       " 1    Corporate  7.158061e+05  231.652471\n",
       " 2  Home Office  4.400684e+05  241.397933,\n",
       "   Order Date      Sales     Profit\n",
       " 0 2021-01-31  14518.055  2539.3907\n",
       " 1 2021-02-28   4519.892   862.3084\n",
       " 2 2021-03-31  56933.909   693.4499\n",
       " 3 2021-04-30  28295.345  3488.8352\n",
       " 4 2021-05-31  26319.767  3196.3918)"
      ]
     },
     "execution_count": 60,
     "metadata": {},
     "output_type": "execute_result"
    }
   ],
   "source": [
    "# Total and average sales by region, category, and segment\n",
    "region_sales = df.groupby('Region')['Sales'].agg(['sum', 'mean']).reset_index()\n",
    "category_sales = df.groupby('Category')['Sales'].agg(['sum', 'mean']).reset_index()\n",
    "segment_sales = df.groupby('Segment')['Sales'].agg(['sum', 'mean']).reset_index()\n",
    "\n",
    "# Convert Order Date to datetime for trend analysis\n",
    "df['Order Date'] = pd.to_datetime(df['Order Date'])\n",
    "\n",
    "# Group by month and calculate total sales and profit\n",
    "trend_data = df.resample('M', on='Order Date').agg({'Sales': 'sum', 'Profit': 'sum'}).reset_index()\n",
    "\n",
    "region_sales, category_sales, segment_sales, trend_data.head()"
   ]
  },
  {
   "cell_type": "markdown",
   "metadata": {},
   "source": [
    "Customer Segmentation: Use clustering (e.g., K-Means) to group customers based on purchase behavior."
   ]
  },
  {
   "cell_type": "code",
   "execution_count": 61,
   "metadata": {},
   "outputs": [
    {
     "data": {
      "text/plain": [
       "(    Customer ID     Sales     Profit  Quantity  Cluster\n",
       " 0      AA-10315  5563.560  -362.8825        30        0\n",
       " 1      AA-10375  1056.390   277.3824        41        0\n",
       " 2      AA-10480  1790.512   435.8274        36        0\n",
       " 3      AA-10645  5086.935   857.8033        64        1\n",
       " 4      AB-10015   886.156   129.3465        13        0\n",
       " ..          ...       ...        ...       ...      ...\n",
       " 799    XP-21865  2503.156   675.9584       121        1\n",
       " 800    YC-21895  5454.350  1305.6290        31        1\n",
       " 801    YS-21880  6720.444  1778.2923        58        2\n",
       " 802    ZC-21910  8025.707 -1032.1490       105        1\n",
       " 803    ZD-21925  1493.944   249.1307        32        0\n",
       " \n",
       " [804 rows x 5 columns],\n",
       "   Cluster        Sales                     Profit                Quantity  \\\n",
       "                   mean           sum         mean          sum       mean   \n",
       " 0       0  1494.577775  6.964732e+05    82.100551   38258.8568  31.495708   \n",
       " 1       1  3852.995406  1.082692e+06   454.146732  127615.2316  68.174377   \n",
       " 2       2  9602.971970  5.473694e+05  2217.942565  126422.7262  84.561404   \n",
       " \n",
       "           \n",
       "      sum  \n",
       " 0  14677  \n",
       " 1  19157  \n",
       " 2   4820  )"
      ]
     },
     "execution_count": 61,
     "metadata": {},
     "output_type": "execute_result"
    }
   ],
   "source": [
    "from sklearn.cluster import KMeans\n",
    "from sklearn.preprocessing import StandardScaler\n",
    "\n",
    "# Prepare the data for clustering: Group by Customer ID and calculate aggregated metrics\n",
    "customer_data = df.groupby('Customer ID').agg({\n",
    "    'Sales': 'sum',\n",
    "    'Profit': 'sum',\n",
    "    'Quantity': 'sum'\n",
    "}).reset_index()\n",
    "\n",
    "# Standardize the data for clustering\n",
    "scaler = StandardScaler()\n",
    "scaled_data = scaler.fit_transform(customer_data[['Sales', 'Profit', 'Quantity']])\n",
    "\n",
    "# Apply K-Means clustering\n",
    "kmeans = KMeans(n_clusters=3, random_state=42)\n",
    "customer_data['Cluster'] = kmeans.fit_predict(scaled_data)\n",
    "\n",
    "# Show resulting clusters and the first few rows\n",
    "customer_clusters = customer_data.groupby('Cluster').agg({\n",
    "    'Sales': ['mean', 'sum'],\n",
    "    'Profit': ['mean', 'sum'],\n",
    "    'Quantity': ['mean', 'sum']\n",
    "}).reset_index()\n",
    "\n",
    "customer_data, customer_clusters"
   ]
  },
  {
   "cell_type": "code",
   "execution_count": 62,
   "metadata": {},
   "outputs": [
    {
     "data": {
      "text/plain": [
       "5563.5599999999995"
      ]
     },
     "execution_count": 62,
     "metadata": {},
     "output_type": "execute_result"
    }
   ],
   "source": [
    "cus_10315 = df[df['Customer ID'] == 'AA-10315']\n",
    "# print(cus_10315.head())\n",
    "cus_10315['Sales'].sum()"
   ]
  },
  {
   "cell_type": "code",
   "execution_count": 63,
   "metadata": {},
   "outputs": [
    {
     "data": {
      "text/plain": [
       "2326534.3543"
      ]
     },
     "execution_count": 63,
     "metadata": {},
     "output_type": "execute_result"
    }
   ],
   "source": [
    "df['Sales'].sum()"
   ]
  },
  {
   "cell_type": "code",
   "execution_count": 64,
   "metadata": {},
   "outputs": [
    {
     "name": "stderr",
     "output_type": "stream",
     "text": [
      "C:\\Users\\1\\AppData\\Local\\Temp\\ipykernel_16988\\2418855899.py:24: FutureWarning: 'M' is deprecated and will be removed in a future version, please use 'ME' instead.\n",
      "  plt.plot(pd.date_range(monthly_sales.index[-1], periods=13, freq='M')[1:], forecast, label=\"Forecasted Sales\", color='red')\n"
     ]
    },
    {
     "data": {
      "image/png": "[encoded data removed]",
      "text/plain": [
       "<Figure size 640x480 with 1 Axes>"
      ]
     },
     "metadata": {},
     "output_type": "display_data"
    }
   ],
   "source": [
    "from statsmodels.tsa.arima.model import ARIMA\n",
    "import matplotlib.pyplot as plt\n",
    "\n",
    "# Group by month and aggregate sales data\n",
    "monthly_sales = df.groupby(df['Order Date'].dt.to_period('M'))['Sales'].sum()\n",
    "\n",
    "# Ensure 'Order Date' is in datetime format\n",
    "df['Order Date'] = pd.to_datetime(df['Order Date'])\n",
    "\n",
    "# Group by month and aggregate sales data (ensure proper datetime index)\n",
    "monthly_sales = df.groupby(df['Order Date'].dt.to_period('M'))['Sales'].sum()\n",
    "\n",
    "# Convert PeriodIndex to datetime for proper handling by ARIMA or Prophet\n",
    "monthly_sales.index = monthly_sales.index.to_timestamp()\n",
    "\n",
    "# Fit ARIMA model (p, d, q values can be adjusted)\n",
    "model = ARIMA(monthly_sales, order=(5, 1, 0))  # p, d, q can be tuned\n",
    "model_fit = model.fit()\n",
    "\n",
    "# Make predictions for the next 12 months\n",
    "forecast = model_fit.forecast(steps=12)\n",
    "\n",
    "plt.plot(monthly_sales.index, monthly_sales.values, label=\"Actual Sales\")\n",
    "plt.plot(pd.date_range(monthly_sales.index[-1], periods=13, freq='M')[1:], forecast, label=\"Forecasted Sales\", color='red')\n",
    "plt.legend()\n",
    "plt.show()"
   ]
  },
  {
   "cell_type": "markdown",
   "metadata": {},
   "source": [
    "Profitability Analysis : Identify the most/least profitable products, customers, and regions."
   ]
  },
  {
   "cell_type": "code",
   "execution_count": 65,
   "metadata": {},
   "outputs": [
    {
     "name": "stdout",
     "output_type": "stream",
     "text": [
      "Most Profitable Products:\n",
      "                                           Product Name      Sales      Profit\n",
      "404               Canon imageCLASS 2200 Advanced Copier  61599.824  25199.9280\n",
      "649   Fellowes PB500 Electric Punch Plastic Comb Bin...  27453.384   7753.0390\n",
      "804                Hewlett Packard LaserJet 3310 Copier  18839.686   6983.8836\n",
      "400                  Canon PC1060 Personal Laser Copier  11619.834   4570.9347\n",
      "786   HP Designjet T520 Inkjet Large Format Printer ...  18374.895   4094.9766\n",
      "165                   Ativa V4110MDD Micro-Cut Shredder   7699.890   3772.9461\n",
      "19     3D Systems Cube Printer, 2nd Generation, Magenta  14299.890   3717.9714\n",
      "1275  Plantronics Savi W720 Multi-Device Wireless He...   9367.290   3696.2820\n",
      "894                Ibico EPK-21 Electric Binding System  15875.916   3345.2823\n",
      "1839                  Zebra ZM400 Thermal Label Printer   6965.700   3343.5360\n",
      "\n",
      "Least Profitable Products:\n",
      "                                           Product Name      Sales     Profit\n",
      "364   BoxOffice By Design Rectangular and Half-Moon ...   1706.250 -1148.4375\n",
      "285                        Balt Solid Wood Round Tables   6518.754 -1201.0581\n",
      "1042  Martin Yale Chadless Opener Electric Letter Op...  16656.200 -1299.1836\n",
      "444   Cisco TelePresence System EX90 Videoconferenci...  22638.480 -1811.0784\n",
      "682           GBC DocuBind P400 Electric Binding System  17965.068 -1878.1662\n",
      "376   Bush Advantage Collection Racetrack Conference...   9544.725 -1934.3976\n",
      "425   Chromcraft Bull-Nose Wood Oval Conference Tabl...   9917.640 -2876.1156\n",
      "476           Cubify CubeX 3D Printer Triple Head Print   7999.980 -3839.9904\n",
      "984           Lexmark MX611dhe Monochrome Laser Printer  16829.901 -4589.9730\n",
      "475           Cubify CubeX 3D Printer Double Head Print  11099.963 -8879.9704\n"
     ]
    }
   ],
   "source": [
    "# Most and Least Profitable Products\n",
    "\n",
    "# Calculate total profit for each product\n",
    "product_profit = df.groupby('Product Name').agg({'Sales': 'sum', 'Profit': 'sum'}).reset_index()\n",
    "\n",
    "# Sort by profit to find the most and least profitable products\n",
    "product_profit_sorted = product_profit.sort_values(by='Profit', ascending=False)\n",
    "\n",
    "# Display the top and bottom products\n",
    "most_profitable_product = product_profit_sorted.head(10)\n",
    "least_profitable_product = product_profit_sorted.tail(10)\n",
    "\n",
    "print(\"Most Profitable Products:\")\n",
    "print(most_profitable_product)\n",
    "print(\"\\nLeast Profitable Products:\")\n",
    "print(least_profitable_product)\n"
   ]
  },
  {
   "cell_type": "code",
   "execution_count": 66,
   "metadata": {},
   "outputs": [
    {
     "data": {
      "text/plain": [
       "61599.824"
      ]
     },
     "execution_count": 66,
     "metadata": {},
     "output_type": "execute_result"
    }
   ],
   "source": [
    "df[df['Product Name'] == 'Canon imageCLASS 2200 Advanced Copier']['Sales'].sum()"
   ]
  },
  {
   "cell_type": "code",
   "execution_count": 67,
   "metadata": {},
   "outputs": [
    {
     "name": "stdout",
     "output_type": "stream",
     "text": [
      "Most Profitable Customers:\n",
      "    Customer ID      Sales     Profit\n",
      "752    TC-20980  19052.218  8981.3239\n",
      "632    RB-19360  15117.339  6976.0959\n",
      "680    SC-20095  14142.334  5757.4119\n",
      "328    HL-15040  12873.298  5622.4292\n",
      "6      AB-10105  14473.571  5444.8055\n",
      "741    TA-21385  14595.620  4703.7883\n",
      "161    CM-12385   8954.020  3899.8904\n",
      "433    KD-16495   8181.256  3038.6254\n",
      "48     AR-10540   6608.448  2884.6208\n",
      "235    DR-12940   8350.868  2869.0760\n",
      "\n",
      "Least Profitable Customers:\n",
      "    Customer ID      Sales     Profit\n",
      "571    NF-18385   8322.826 -1695.9714\n",
      "166    CP-12340   5888.275 -1850.3029\n",
      "711    SM-20320  25043.050 -1980.7393\n",
      "677    SB-20290   8057.891 -2082.7451\n",
      "565    NC-18415   2218.990 -2204.8072\n",
      "323    HG-14965   3247.642 -2797.9635\n",
      "722    SR-20425   3233.481 -3333.9144\n",
      "468    LF-17185   3930.509 -3583.9770\n",
      "311    GT-14635   9351.212 -4108.6589\n",
      "181    CS-12505   5690.055 -6626.3895\n"
     ]
    }
   ],
   "source": [
    "# Most and Least Profitable Customers\n",
    "\n",
    "# Calculate total profit for each customer\n",
    "customer_profit = df.groupby('Customer ID').agg({'Sales': 'sum', 'Profit': 'sum'}).reset_index()\n",
    "\n",
    "# Sort by profit to find the most and least profitable customers\n",
    "customer_profit_sorted = customer_profit.sort_values(by='Profit', ascending=False)\n",
    "\n",
    "# Display the top and bottom customers\n",
    "most_profitable_customer = customer_profit_sorted.head(10)\n",
    "least_profitable_customer = customer_profit_sorted.tail(10)\n",
    "\n",
    "print(\"Most Profitable Customers:\")\n",
    "print(most_profitable_customer)\n",
    "print(\"\\nLeast Profitable Customers:\")\n",
    "print(least_profitable_customer)"
   ]
  },
  {
   "cell_type": "code",
   "execution_count": 68,
   "metadata": {},
   "outputs": [
    {
     "name": "stdout",
     "output_type": "stream",
     "text": [
      "Sales sum = 19052.218000000004, Profit sum = 8981.3239\n"
     ]
    }
   ],
   "source": [
    "customer_data = df[df['Customer ID'] == 'TC-20980']\n",
    "print(f\"Sales sum = {customer_data['Sales'].sum()}, Profit sum = {customer_data['Profit'].sum()}\")\n"
   ]
  },
  {
   "cell_type": "code",
   "execution_count": 69,
   "metadata": {},
   "outputs": [
    {
     "name": "stdout",
     "output_type": "stream",
     "text": [
      "Most Profitable Regions:\n",
      "    Region        Sales       Profit\n",
      "3     West  739813.6085  110798.8170\n",
      "1     East  691828.1680   94883.2603\n",
      "2    South  391721.9050   46749.4303\n",
      "0  Central  503170.6728   39865.3070\n",
      "\n",
      "Least Profitable Regions:\n",
      "    Region        Sales       Profit\n",
      "3     West  739813.6085  110798.8170\n",
      "1     East  691828.1680   94883.2603\n",
      "2    South  391721.9050   46749.4303\n",
      "0  Central  503170.6728   39865.3070\n"
     ]
    }
   ],
   "source": [
    "# Most and Least Profitable Regions\n",
    "\n",
    "# Calculate total profit for each region\n",
    "region_profit = df.groupby('Region').agg({'Sales': 'sum', 'Profit': 'sum'}).reset_index()\n",
    "\n",
    "# Sort by profit to find the most and least profitable regions\n",
    "region_profit_sorted = region_profit.sort_values(by='Profit', ascending=False)\n",
    "\n",
    "# Display the top and bottom regions\n",
    "most_profitable_region = region_profit_sorted.head(10)\n",
    "least_profitable_region = region_profit_sorted.tail(10)\n",
    "\n",
    "print(\"Most Profitable Regions:\")\n",
    "print(most_profitable_region)\n",
    "print(\"\\nLeast Profitable Regions:\")\n",
    "print(least_profitable_region)\n"
   ]
  },
  {
   "cell_type": "code",
   "execution_count": 70,
   "metadata": {},
   "outputs": [
    {
     "name": "stdout",
     "output_type": "stream",
     "text": [
      "Sales =  739813.6085\n",
      "Profit =  110798.817\n"
     ]
    }
   ],
   "source": [
    "print(\"Sales = \" , df[df['Region'] == 'West']['Sales'].sum())\n",
    "print(\"Profit = \" , df[df['Region'] == 'West']['Profit'].sum())"
   ]
  },
  {
   "cell_type": "markdown",
   "metadata": {},
   "source": [
    "Discount Optimization: Assess the impact of discounts on sales and profit to suggest optimal discount strategies."
   ]
  },
  {
   "cell_type": "code",
   "execution_count": 71,
   "metadata": {},
   "outputs": [
    {
     "name": "stdout",
     "output_type": "stream",
     "text": [
      "  Discount Range       Sales      Profit\n",
      "0           0-5%         NaN         NaN\n",
      "1          5-10%  572.421844   94.791354\n",
      "2         10-15%  529.971567   27.288298\n",
      "3         15-20%  208.834160   24.576350\n",
      "4         20-25%         NaN         NaN\n",
      "5         25-30%  454.235074  -45.710633\n",
      "6           30%+  219.650703 -105.913283\n"
     ]
    },
    {
     "name": "stderr",
     "output_type": "stream",
     "text": [
      "C:\\Users\\1\\AppData\\Local\\Temp\\ipykernel_16988\\404709940.py:9: FutureWarning: The default of observed=False is deprecated and will be changed to True in a future version of pandas. Pass observed=False to retain current behavior or observed=True to adopt the future default and silence this warning.\n",
      "  discount_analysis = df.groupby('Discount Range').agg({'Sales': 'mean', 'Profit': 'mean'}).reset_index()\n"
     ]
    }
   ],
   "source": [
    "# If not, you can calculate it as: (List Price - Sale Price) / List Price\n",
    "df['Discount Percentage'] = df['Discount'] * 100  # Assuming 'Discount' is a proportion (e.g., 0.1 for 10%)\n",
    "\n",
    "# Create discount ranges\n",
    "df['Discount Range'] = pd.cut(df['Discount Percentage'], bins=[0, 5, 10, 15, 20, 25, 30, 100], \n",
    "                              labels=[\"0-5%\", \"5-10%\", \"10-15%\", \"15-20%\", \"20-25%\", \"25-30%\", \"30%+\"])\n",
    "\n",
    "# Calculate average sales and profit for each discount range\n",
    "discount_analysis = df.groupby('Discount Range').agg({'Sales': 'mean', 'Profit': 'mean'}).reset_index()\n",
    "\n",
    "print(discount_analysis)\n"
   ]
  },
  {
   "cell_type": "code",
   "execution_count": 72,
   "metadata": {},
   "outputs": [
    {
     "data": {
      "image/png": "[encoded data removed]",
      "text/plain": [
       "<Figure size 1000x600 with 1 Axes>"
      ]
     },
     "metadata": {},
     "output_type": "display_data"
    }
   ],
   "source": [
    "import matplotlib.pyplot as plt\n",
    "import seaborn as sns\n",
    "\n",
    "# Step 3: Plot the relationship between discount and average sales/profit\n",
    "plt.figure(figsize=(10, 6))\n",
    "\n",
    "# Plot average sales and profit by discount range\n",
    "sns.barplot(x='Discount Range', y='Sales', data=discount_analysis, color='blue', alpha=0.6, label='Sales')\n",
    "sns.barplot(x='Discount Range', y='Profit', data=discount_analysis, color='green', alpha=0.6, label='Profit')\n",
    "\n",
    "plt.title(\"Impact of Discounts on Sales and Profit\")\n",
    "plt.xlabel(\"Discount Range (%)\")\n",
    "plt.ylabel(\"Value\")\n",
    "plt.legend()\n",
    "plt.show()\n"
   ]
  },
  {
   "cell_type": "code",
   "execution_count": 73,
   "metadata": {},
   "outputs": [
    {
     "name": "stdout",
     "output_type": "stream",
     "text": [
      "                     Discount Percentage     Sales    Profit\n",
      "Discount Percentage             1.000000 -0.027756 -0.218882\n",
      "Sales                          -0.027756  1.000000  0.481460\n",
      "Profit                         -0.218882  0.481460  1.000000\n"
     ]
    }
   ],
   "source": [
    "# Calculate correlation between Discount, Sales, and Profit\n",
    "correlation_matrix = df[['Discount Percentage', 'Sales', 'Profit']].corr()\n",
    "\n",
    "# Display the correlation matrix\n",
    "print(correlation_matrix)\n"
   ]
  },
  {
   "cell_type": "markdown",
   "metadata": {},
   "source": [
    "Geographical Heatmaps: Visualize sales and profit distribution geographically."
   ]
  },
  {
   "cell_type": "code",
   "execution_count": 74,
   "metadata": {},
   "outputs": [
    {
     "name": "stdout",
     "output_type": "stream",
     "text": [
      "    Region        Sales       Profit\n",
      "0  Central  503170.6728   39865.3070\n",
      "1     East  691828.1680   94883.2603\n",
      "2    South  391721.9050   46749.4303\n",
      "3     West  739813.6085  110798.8170\n"
     ]
    }
   ],
   "source": [
    "# Group by geographic region\n",
    "geographical_data = df.groupby('Region').agg({'Sales': 'sum', 'Profit': 'sum'}).reset_index()\n",
    "\n",
    "print(geographical_data)\n"
   ]
  },
  {
   "cell_type": "markdown",
   "metadata": {},
   "source": [
    "Anomaly Detection: Detect unusual trends in sales, profit, or discount using outlier detection techniques."
   ]
  },
  {
   "cell_type": "code",
   "execution_count": 75,
   "metadata": {},
   "outputs": [
    {
     "name": "stdout",
     "output_type": "stream",
     "text": [
      "Sales       0\n",
      "Profit      0\n",
      "Discount    0\n",
      "dtype: int64\n"
     ]
    }
   ],
   "source": [
    "# Select relevant columns for anomaly detection\n",
    "anomaly_data = df[['Sales', 'Profit', 'Discount']]\n",
    "\n",
    "# Check for missing values and handle them if any\n",
    "print(anomaly_data.isnull().sum())\n"
   ]
  },
  {
   "cell_type": "code",
   "execution_count": 76,
   "metadata": {},
   "outputs": [
    {
     "name": "stdout",
     "output_type": "stream",
     "text": [
      "       Row ID        Order ID Order Date   Ship Date       Ship Mode  \\\n",
      "1           2  US-2021-112326 2021-01-04  08-01-2021  Standard Class   \n",
      "5           6  US-2021-167199 2021-01-06  10-01-2021  Standard Class   \n",
      "15         16  US-2021-105417 2021-01-07  12-01-2021  Standard Class   \n",
      "93         94  US-2021-108182 2021-02-06  10-02-2021    Second Class   \n",
      "115       116  US-2021-122567 2021-02-16  21-02-2021  Standard Class   \n",
      "...       ...             ...        ...         ...             ...   \n",
      "10121   10122  US-2024-145219 2024-12-24  25-12-2024     First Class   \n",
      "10130   10131  US-2024-134194 2024-12-25  01-01-2025  Standard Class   \n",
      "10131   10132  US-2024-134194 2024-12-25  01-01-2025  Standard Class   \n",
      "10134   10135  US-2024-134194 2024-12-25  01-01-2025  Standard Class   \n",
      "10162   10163  US-2024-163860 2024-12-28  01-01-2025  Standard Class   \n",
      "\n",
      "      Customer ID      Customer Name      Segment Country/Region         City  \\\n",
      "1        PO-19195      Phillina Ober  Home Office  United States   Naperville   \n",
      "5        ME-17320      Maria Etezadi  Home Office  United States    Henderson   \n",
      "15       VS-21820   Vivek Sundaresam     Consumer  United States   Huntsville   \n",
      "93       DL-13315  Delfina Latchford     Consumer  United States   Romeoville   \n",
      "115      MN-17935     Michael Nguyen     Consumer  United States       Dallas   \n",
      "...           ...                ...          ...            ...          ...   \n",
      "10121    RM-19675      Robert Marley  Home Office  United States  Los Angeles   \n",
      "10130    GA-14725      Guy Armstrong     Consumer  United States       Dallas   \n",
      "10131    GA-14725      Guy Armstrong     Consumer  United States       Dallas   \n",
      "10134    GA-14725      Guy Armstrong     Consumer  United States       Dallas   \n",
      "10162    LO-17170         Lori Olson    Corporate  United States       Peoria   \n",
      "\n",
      "       ...                                       Product Name     Sales  \\\n",
      "1      ...         GBC Standard Plastic Binding Systems Combs     3.540   \n",
      "5      ...            Global Deluxe High-Back Manager's Chair  2573.820   \n",
      "15     ...  Acco Four Pocket Poly Ring Binder with Label H...    10.430   \n",
      "93     ...               Avery Flip-Chart Easel Binder, Black     8.952   \n",
      "115    ...  Holmes Cool Mist Humidifier for the Whole Hous...     7.960   \n",
      "...    ...                                                ...       ...   \n",
      "10121  ...               Hewlett Packard LaserJet 3310 Copier  2879.952   \n",
      "10130  ...      Wilson Jones 1\" Hanging DublLock Ring Binders     3.168   \n",
      "10131  ...  Wilson Jones Ledger-Size, Piano-Hinge Binder, ...    40.980   \n",
      "10134  ...               Wilson Jones Legal Size Ring Binders    39.582   \n",
      "10162  ...                       Computer Printout Index Tabs     1.680   \n",
      "\n",
      "      Quantity Discount     Profit Day Month  Year  Discount Percentage  \\\n",
      "1            2      0.8    -5.4870   4     1  2021                 80.0   \n",
      "5            9      0.0   746.4078   6     1  2021                  0.0   \n",
      "15           7      0.8   -18.2525   7     1  2021                 80.0   \n",
      "93           2      0.8   -14.7708   6     2  2021                 80.0   \n",
      "115          2      0.8   -13.9300  16     2  2021                 80.0   \n",
      "...        ...      ...        ...  ..   ...   ...                  ...   \n",
      "10121        6      0.2  1007.9832  24    12  2024                 20.0   \n",
      "10130        3      0.8    -5.0688  25    12  2024                 80.0   \n",
      "10131        5      0.8   -65.5680  25    12  2024                 80.0   \n",
      "10134        9      0.8   -59.3730  25    12  2024                 80.0   \n",
      "10162        5      0.8    -2.6880  28    12  2024                 80.0   \n",
      "\n",
      "       Discount Range  \n",
      "1                30%+  \n",
      "5                 NaN  \n",
      "15               30%+  \n",
      "93               30%+  \n",
      "115              30%+  \n",
      "...               ...  \n",
      "10121          15-20%  \n",
      "10130            30%+  \n",
      "10131            30%+  \n",
      "10134            30%+  \n",
      "10162            30%+  \n",
      "\n",
      "[457 rows x 26 columns]\n"
     ]
    }
   ],
   "source": [
    "from scipy.stats import zscore\n",
    "\n",
    "# Calculate Z-scores for each column\n",
    "z_scores = anomaly_data.apply(zscore)\n",
    "\n",
    "# Define a threshold for anomalies (e.g., Z > 3 or Z < -3)\n",
    "threshold = 3\n",
    "anomalies = (z_scores.abs() > threshold)\n",
    "\n",
    "# Flag and display rows with anomalies\n",
    "anomalous_rows = df[anomalies.any(axis=1)]\n",
    "print(anomalous_rows)\n"
   ]
  },
  {
   "cell_type": "code",
   "execution_count": 77,
   "metadata": {},
   "outputs": [
    {
     "name": "stdout",
     "output_type": "stream",
     "text": [
      "       Row ID        Order ID Order Date   Ship Date       Ship Mode  \\\n",
      "5           6  US-2021-167199 2021-01-06  10-01-2021  Standard Class   \n",
      "39         40  US-2021-146591 2021-01-19  20-01-2021     First Class   \n",
      "144       145  US-2021-127978 2021-03-03  08-03-2021  Standard Class   \n",
      "146       147  US-2021-130421 2021-03-03  07-03-2021  Standard Class   \n",
      "198       199  US-2021-148838 2021-03-17  21-03-2021  Standard Class   \n",
      "...       ...             ...        ...         ...             ...   \n",
      "10068   10069  US-2024-150910 2024-12-22  28-12-2024  Standard Class   \n",
      "10095   10096  US-2024-121216 2024-12-23  25-12-2024    Second Class   \n",
      "10121   10122  US-2024-145219 2024-12-24  25-12-2024     First Class   \n",
      "10131   10132  US-2024-134194 2024-12-25  01-01-2025  Standard Class   \n",
      "10134   10135  US-2024-134194 2024-12-25  01-01-2025  Standard Class   \n",
      "\n",
      "      Customer ID   Customer Name      Segment Country/Region  \\\n",
      "5        ME-17320   Maria Etezadi  Home Office  United States   \n",
      "39       TS-21340   Toby Swindell     Consumer  United States   \n",
      "144      JS-15595  Jill Stevenson    Corporate  United States   \n",
      "146      SC-20020      Sam Craven     Consumer  United States   \n",
      "198      CP-12340  Christine Phan    Corporate  United States   \n",
      "...           ...             ...          ...            ...   \n",
      "10068    JL-15130     Jack Lebron     Consumer  United States   \n",
      "10095    MM-17920   Michael Moore     Consumer  United States   \n",
      "10121    RM-19675   Robert Marley  Home Office  United States   \n",
      "10131    GA-14725   Guy Armstrong     Consumer  United States   \n",
      "10134    GA-14725   Guy Armstrong     Consumer  United States   \n",
      "\n",
      "                  City  ...     Sales Quantity Discount     Profit Day Month  \\\n",
      "5            Henderson  ...  2573.820        9      0.0   746.4078   6     1   \n",
      "39          Scottsdale  ...   181.470        5      0.7  -320.5970  19     1   \n",
      "144           Columbus  ...   302.450        5      0.5  -199.6170   3     3   \n",
      "146            Houston  ...   176.772        3      0.8  -459.6072   3     3   \n",
      "198      New York City  ...  1071.576        4      0.4  -553.6476  17     3   \n",
      "...                ...  ...       ...      ...      ...        ...  ..   ...   \n",
      "10068          Jackson  ...   934.956        6      0.4  -249.3216  22    12   \n",
      "10095  College Station  ...    29.312        8      0.8   -74.7456  23    12   \n",
      "10121      Los Angeles  ...  2879.952        6      0.2  1007.9832  24    12   \n",
      "10131           Dallas  ...    40.980        5      0.8   -65.5680  25    12   \n",
      "10134           Dallas  ...    39.582        9      0.8   -59.3730  25    12   \n",
      "\n",
      "       Year  Discount Percentage  Discount Range  Anomaly_Score  \n",
      "5      2021                  0.0             NaN             -1  \n",
      "39     2021                 70.0            30%+             -1  \n",
      "144    2021                 50.0            30%+             -1  \n",
      "146    2021                 80.0            30%+             -1  \n",
      "198    2021                 40.0            30%+             -1  \n",
      "...     ...                  ...             ...            ...  \n",
      "10068  2024                 40.0            30%+             -1  \n",
      "10095  2024                 80.0            30%+             -1  \n",
      "10121  2024                 20.0          15-20%             -1  \n",
      "10131  2024                 80.0            30%+             -1  \n",
      "10134  2024                 80.0            30%+             -1  \n",
      "\n",
      "[510 rows x 27 columns]\n"
     ]
    }
   ],
   "source": [
    "from sklearn.ensemble import IsolationForest\n",
    "\n",
    "# Train an Isolation Forest model\n",
    "iso_forest = IsolationForest(contamination=0.05, random_state=42)\n",
    "df['Anomaly_Score'] = iso_forest.fit_predict(anomaly_data)\n",
    "\n",
    "# Identify anomalies (label -1 as anomalies)\n",
    "anomalies = df[df['Anomaly_Score'] == -1]\n",
    "print(anomalies)\n",
    "\n"
   ]
  },
  {
   "cell_type": "code",
   "execution_count": 78,
   "metadata": {},
   "outputs": [
    {
     "name": "stdout",
     "output_type": "stream",
     "text": [
      "       Row ID        Order ID Order Date   Ship Date       Ship Mode  \\\n",
      "3           4  US-2021-112326 2021-01-04  08-01-2021  Standard Class   \n",
      "5           6  US-2021-167199 2021-01-06  10-01-2021  Standard Class   \n",
      "8           9  US-2021-167199 2021-01-06  10-01-2021  Standard Class   \n",
      "9          10  US-2021-167199 2021-01-06  10-01-2021  Standard Class   \n",
      "12         13  US-2021-167199 2021-01-06  10-01-2021  Standard Class   \n",
      "...       ...             ...        ...         ...             ...   \n",
      "10175   10176  US-2024-146626 2024-12-29  05-01-2025  Standard Class   \n",
      "10181   10182  US-2024-158673 2024-12-29  04-01-2025  Standard Class   \n",
      "10186   10187  US-2024-143259 2024-12-30  03-01-2025  Standard Class   \n",
      "10187   10188  US-2024-126221 2024-12-30  05-01-2025  Standard Class   \n",
      "10192   10193  US-2024-143259 2024-12-30  03-01-2025  Standard Class   \n",
      "\n",
      "      Customer ID      Customer Name      Segment Country/Region  \\\n",
      "3        PO-19195      Phillina Ober  Home Office  United States   \n",
      "5        ME-17320      Maria Etezadi  Home Office  United States   \n",
      "8        ME-17320      Maria Etezadi  Home Office  United States   \n",
      "9        ME-17320      Maria Etezadi  Home Office  United States   \n",
      "12       ME-17320      Maria Etezadi  Home Office  United States   \n",
      "...           ...                ...          ...            ...   \n",
      "10175    BP-11185       Ben Peterman    Corporate  United States   \n",
      "10181    KB-16600        Ken Brennan    Corporate  United States   \n",
      "10186    PO-18865  Patrick O'Donnell     Consumer  United States   \n",
      "10187    CC-12430        Chuck Clark  Home Office  United States   \n",
      "10192    PO-18865  Patrick O'Donnell     Consumer  United States   \n",
      "\n",
      "                City  ... Quantity Discount    Profit Day Month  Year  \\\n",
      "3         Naperville  ...        3      0.2  -64.7748   4     1  2021   \n",
      "5          Henderson  ...        9      0.0  746.4078   6     1  2021   \n",
      "8          Henderson  ...        2      0.0  274.4910   6     1  2021   \n",
      "9          Henderson  ...        4      0.0    0.3112   6     1  2021   \n",
      "12         Henderson  ...        4      0.0  204.1092   6     1  2021   \n",
      "...              ...  ...      ...      ...       ...  ..   ...   ...   \n",
      "10175        Anaheim  ...        8      0.0   37.4144  29    12  2024   \n",
      "10181   Grand Rapids  ...        2      0.0  100.6560  29    12  2024   \n",
      "10186  New York City  ...        4      0.2   12.1176  30    12  2024   \n",
      "10187       Columbus  ...        2      0.0   56.5110  30    12  2024   \n",
      "10192  New York City  ...        7      0.0    2.7279  30    12  2024   \n",
      "\n",
      "      Discount Percentage  Discount Range  Anomaly_Score  Cluster  \n",
      "3                    20.0          15-20%              1       -1  \n",
      "5                     0.0             NaN             -1       -1  \n",
      "8                     0.0             NaN              1       -1  \n",
      "9                     0.0             NaN              1       -1  \n",
      "12                    0.0             NaN              1       -1  \n",
      "...                   ...             ...            ...      ...  \n",
      "10175                 0.0             NaN              1       -1  \n",
      "10181                 0.0             NaN              1       -1  \n",
      "10186                20.0          15-20%              1       -1  \n",
      "10187                 0.0             NaN              1       -1  \n",
      "10192                 0.0             NaN              1       -1  \n",
      "\n",
      "[5982 rows x 28 columns]\n"
     ]
    }
   ],
   "source": [
    "from sklearn.cluster import DBSCAN\n",
    "\n",
    "# Fit DBSCAN on the data\n",
    "dbscan = DBSCAN(eps=0.5, min_samples=5)\n",
    "labels = dbscan.fit_predict(anomaly_data)\n",
    "\n",
    "# Add labels to the dataframe\n",
    "df['Cluster'] = labels\n",
    "\n",
    "# Identify outliers (label -1 as anomalies)\n",
    "outliers = df[df['Cluster'] == -1]\n",
    "print(outliers)\n"
   ]
  },
  {
   "cell_type": "code",
   "execution_count": 79,
   "metadata": {},
   "outputs": [
    {
     "data": {
      "image/png": "[encoded data removed]",
      "text/plain": [
       "<Figure size 1000x600 with 1 Axes>"
      ]
     },
     "metadata": {},
     "output_type": "display_data"
    }
   ],
   "source": [
    "import matplotlib.pyplot as plt\n",
    "import seaborn as sns\n",
    "\n",
    "# Scatter plot to visualize anomalies\n",
    "plt.figure(figsize=(10, 6))\n",
    "sns.scatterplot(data=df, x='Sales', y='Profit', hue=(df['Anomaly_Score'] == -1), palette=['blue', 'red'])\n",
    "plt.title('Anomaly Detection in Sales and Profit')\n",
    "plt.legend(['Normal', 'Anomaly'])\n",
    "plt.show()\n"
   ]
  },
  {
   "cell_type": "markdown",
   "metadata": {},
   "source": [
    "\n",
    "Shipping Efficiency: Analyze shipping times and modes to optimize delivery schedules."
   ]
  },
  {
   "cell_type": "code",
   "execution_count": 80,
   "metadata": {},
   "outputs": [
    {
     "name": "stdout",
     "output_type": "stream",
     "text": [
      "Order Date    0\n",
      "Ship Date     0\n",
      "dtype: int64\n",
      "  Order Date  Ship Date  Delivery Time\n",
      "0 2021-01-03 2021-01-07              4\n",
      "1 2021-01-04 2021-01-08              4\n",
      "2 2021-01-04 2021-01-08              4\n",
      "3 2021-01-04 2021-01-08              4\n",
      "4 2021-01-05 2021-01-12              7\n"
     ]
    }
   ],
   "source": [
    "# Convert Order Date and Ship Date to datetime format with dayfirst=True\n",
    "df['Order Date'] = pd.to_datetime(df['Order Date'], dayfirst=True, errors='coerce')\n",
    "df['Ship Date'] = pd.to_datetime(df['Ship Date'], dayfirst=True, errors='coerce')\n",
    "\n",
    "# Check for any NaT (missing dates due to parsing issues)\n",
    "print(df[['Order Date', 'Ship Date']].isna().sum())\n",
    "\n",
    "# Calculate Delivery Time in days\n",
    "df['Delivery Time'] = (df['Ship Date'] - df['Order Date']).dt.days\n",
    "\n",
    "# Verify the result\n",
    "print(df[['Order Date', 'Ship Date', 'Delivery Time']].head())\n"
   ]
  },
  {
   "cell_type": "code",
   "execution_count": 81,
   "metadata": {},
   "outputs": [
    {
     "name": "stdout",
     "output_type": "stream",
     "text": [
      "        Ship Mode Delivery Time                     \n",
      "                           mean median max       std\n",
      "0     First Class      2.182171    2.0   4  0.771431\n",
      "1        Same Day      0.043876    0.0   1  0.205006\n",
      "2    Second Class      3.237494    3.0   5  1.191556\n",
      "3  Standard Class      4.996405    5.0  11  1.019977\n"
     ]
    }
   ],
   "source": [
    "# Group by Shipping Mode and calculate delivery statistics\n",
    "shipping_stats = df.groupby('Ship Mode').agg({\n",
    "    'Delivery Time': ['mean', 'median', 'max', 'std']\n",
    "}).reset_index()\n",
    "\n",
    "print(shipping_stats)\n"
   ]
  },
  {
   "cell_type": "code",
   "execution_count": 82,
   "metadata": {},
   "outputs": [
    {
     "name": "stderr",
     "output_type": "stream",
     "text": [
      "C:\\Users\\1\\AppData\\Local\\Temp\\ipykernel_16988\\1121812029.py:6: FutureWarning: \n",
      "\n",
      "Passing `palette` without assigning `hue` is deprecated and will be removed in v0.14.0. Assign the `x` variable to `hue` and set `legend=False` for the same effect.\n",
      "\n",
      "  sns.boxplot(data=df, x='Ship Mode', y='Delivery Time', palette='Set2')\n",
      "No artists with labels found to put in legend.  Note that artists whose label start with an underscore are ignored when legend() is called with no argument.\n"
     ]
    },
    {
     "data": {
      "image/png": "[encoded data removed]",
      "text/plain": [
       "<Figure size 1000x600 with 1 Axes>"
      ]
     },
     "metadata": {},
     "output_type": "display_data"
    }
   ],
   "source": [
    "import seaborn as sns\n",
    "import matplotlib.pyplot as plt\n",
    "\n",
    "# Boxplot of Delivery Time by Shipping Mode\n",
    "plt.figure(figsize=(10, 6))\n",
    "sns.boxplot(data=df, x='Ship Mode', y='Delivery Time', palette='Set2')\n",
    "plt.title('Delivery Time by Shipping Mode')\n",
    "plt.xlabel('Shipping Mode')\n",
    "plt.ylabel('Delivery Time (days)')\n",
    "plt.legend()\n",
    "plt.show()\n"
   ]
  },
  {
   "cell_type": "code",
   "execution_count": 83,
   "metadata": {},
   "outputs": [
    {
     "name": "stdout",
     "output_type": "stream",
     "text": [
      "           Ship Mode  Delivery Time\n",
      "129      First Class              4\n",
      "1356        Same Day              1\n",
      "1357        Same Day              1\n",
      "1698  Standard Class             11\n",
      "1699  Standard Class             11\n"
     ]
    }
   ],
   "source": [
    "# Calculate thresholds for delays (e.g., > mean + 2*std)\n",
    "thresholds = shipping_stats['Delivery Time']['mean'] + 2 * shipping_stats['Delivery Time']['std']\n",
    "threshold_dict = dict(zip(shipping_stats['Ship Mode'], thresholds))\n",
    "\n",
    "# Flag delayed shipments\n",
    "df['Delayed'] = df.apply(\n",
    "    lambda row: row['Delivery Time'] > threshold_dict[row['Ship Mode']],\n",
    "    axis=1\n",
    ")\n",
    "\n",
    "# Analyze delayed shipments\n",
    "delayed_orders = df[df['Delayed']]\n",
    "print(delayed_orders[['Ship Mode', 'Delivery Time']].head())\n"
   ]
  }
 ],
 "metadata": {
  "kernelspec": {
   "display_name": "Python 3",
   "language": "python",
   "name": "python3"
  },
  "language_info": {
   "codemirror_mode": {
    "name": "ipython",
    "version": 3
   },
   "file_extension": ".py",
   "mimetype": "text/x-python",
   "name": "python",
   "nbconvert_exporter": "python",
   "pygments_lexer": "ipython3",
   "version": "3.12.4"
  }
 },
 "nbformat": 4,
 "nbformat_minor": 2
}
